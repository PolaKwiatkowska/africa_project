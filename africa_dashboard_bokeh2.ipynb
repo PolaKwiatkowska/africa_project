{
 "cells": [
  {
   "cell_type": "code",
   "execution_count": 1,
   "metadata": {},
   "outputs": [],
   "source": [
    "import pandas as pd"
   ]
  },
  {
   "cell_type": "code",
   "execution_count": 2,
   "metadata": {},
   "outputs": [],
   "source": [
    "from bokeh.plotting import figure, show, output_file\n",
    "from bokeh.layouts import row, gridplot\n",
    "from bokeh.models import CDSView, ColumnDataSource, IndexFilter\n",
    "from bokeh.models import Title\n",
    "from bokeh.models import FactorRange\n",
    "from bokeh.models.tools import HoverTool\n",
    "from bokeh.transform import factor_cmap\n",
    "from bokeh.palettes import Spectral6, Plasma256, Viridis256"
   ]
  },
  {
   "cell_type": "code",
   "execution_count": 3,
   "metadata": {},
   "outputs": [],
   "source": [
    "output_file('benchmark.html')"
   ]
  },
  {
   "cell_type": "code",
   "execution_count": 4,
   "metadata": {},
   "outputs": [],
   "source": [
    "df1 = pd.read_csv(\"/Users/pola/Documents/Africa Project/1_hyp.csv\", delimiter = ',')\n",
    "#df1.head"
   ]
  },
  {
   "cell_type": "code",
   "execution_count": 5,
   "metadata": {},
   "outputs": [],
   "source": [
    "df2 = pd.read_csv(\"/Users/pola/Documents/Africa Project/2_diab.csv\", delimiter = ',')\n",
    "#df2.head"
   ]
  },
  {
   "cell_type": "code",
   "execution_count": 6,
   "metadata": {},
   "outputs": [],
   "source": [
    "df3 = pd.read_csv(\"/Users/pola/Documents/Africa Project/3_bmi.csv\", delimiter = ',')\n",
    "#df3.head"
   ]
  },
  {
   "cell_type": "code",
   "execution_count": 7,
   "metadata": {},
   "outputs": [],
   "source": [
    "df1['bmi_mean'] = df3.bmi_mean\n",
    "df1['diabletes_prevalence'] = df2.diebetes_prevalence\n",
    "df = pd.melt(df1, id_vars =['country', 'sex', 'year'], var_name ='variable', value_name ='value')\n",
    "#df.head"
   ]
  },
  {
   "cell_type": "code",
   "execution_count": 8,
   "metadata": {},
   "outputs": [],
   "source": [
    "df4 = pd.concat(\n",
    "    map(pd.read_csv, ['/Users/pola/Documents/Africa Project/4_for_dir_inv.csv', '/Users/pola/Documents/Africa Project/5_gdp.csv', '/Users/pola/Documents/Africa Project/5_gdp.csv', '/Users/pola/Documents/Africa Project/5_gdp.csv', '/Users/pola/Documents/Africa Project/6_population.csv', '/Users/pola/Documents/Africa Project/7_private_exp.csv', '/Users/pola/Documents/Africa Project/8_gov_exp.csv']), ignore_index=True)\n",
    "#print(df4)"
   ]
  },
  {
   "cell_type": "code",
   "execution_count": 9,
   "metadata": {},
   "outputs": [],
   "source": [
    "selection = [ 'Nigeria', 'Egypt', 'South Africa', 'Kenya', 'Algeria', 'Morocco', 'Angola', 'Ghana', 'Cameroon', \"Cote d''Ivoire\"]\n",
    "df5 = df4[df4['country'].isin(selection)]\n"
   ]
  },
  {
   "cell_type": "code",
   "execution_count": 10,
   "metadata": {},
   "outputs": [],
   "source": [
    "#df5.head"
   ]
  },
  {
   "cell_type": "code",
   "execution_count": 11,
   "metadata": {},
   "outputs": [
    {
     "data": {
      "text/plain": [
       "array(['for_dir_inv', 'gdp', 'population', 'private_exp', 'gov_exp'],\n",
       "      dtype=object)"
      ]
     },
     "execution_count": 11,
     "metadata": {},
     "output_type": "execute_result"
    }
   ],
   "source": [
    "df5['variable'].unique()"
   ]
  },
  {
   "cell_type": "code",
   "execution_count": 12,
   "metadata": {},
   "outputs": [
    {
     "name": "stderr",
     "output_type": "stream",
     "text": [
      "<ipython-input-12-c2f11551ce8f>:2: SettingWithCopyWarning: \n",
      "A value is trying to be set on a copy of a slice from a DataFrame.\n",
      "Try using .loc[row_indexer,col_indexer] = value instead\n",
      "\n",
      "See the caveats in the documentation: https://pandas.pydata.org/pandas-docs/stable/user_guide/indexing.html#returning-a-view-versus-a-copy\n",
      "  pop['value'] = pop['value']/1000000\n"
     ]
    }
   ],
   "source": [
    "\n",
    "\n",
    "pop = df5.loc[(df5[\"variable\"] == \"population\")]\n",
    "pop['value'] = pop['value']/1000000\n",
    "source = ColumnDataSource(pop)\n",
    "countries = source.data['country'].tolist()\n",
    "\n",
    "p1 = figure(x_range=countries)\n",
    "p1.vbar(x = 'country', top='value', source = source, width=0.5, color=\"red\")\n",
    "p1.add_layout(Title(text=\" \", text_font_style=\"italic\", text_font_size = \"7pt\"), 'above')\n",
    "p1.add_layout(Title(text=\"Population\", text_font_size=\"9pt\"), 'above')\n",
    "p1.xaxis.major_label_orientation = \"vertical\"\n",
    "\n",
    "p1.plot_height = 400\n",
    "p1.plot_width = 400\n",
    "\n",
    "hover1 = HoverTool()\n",
    "hover1.tooltips = [(\"Population\", \"@value{0.0}\")]\n",
    "hover1.mode = 'vline'\n",
    "p1.add_tools(hover1)\n",
    "\n",
    "#show(p1)\n",
    "\n",
    "\n"
   ]
  },
  {
   "cell_type": "code",
   "execution_count": 13,
   "metadata": {},
   "outputs": [],
   "source": [
    "\n",
    "gdp = df5.loc[(df5[\"variable\"] == \"gdp\")]\n",
    "source1 = ColumnDataSource(gdp)\n",
    "countries = source.data['country'].tolist()\n",
    "\n",
    "p2 = figure(x_range=countries)\n",
    "p2.vbar(x = 'country', top='value', source = source1, width=0.5, color=\"blue\")\n",
    "p2.add_layout(Title(text=\"(current US$)\", text_font_style=\"italic\", text_font_size = \"7pt\"), 'above')\n",
    "p2.add_layout(Title(text=\"GDP per capita\", text_font_size=\"9pt\"), 'above')\n",
    "p2.xaxis.major_label_orientation = \"vertical\"\n",
    "\n",
    "p2.plot_height = 400\n",
    "p2.plot_width = 400\n",
    "\n",
    "hover2 = HoverTool()\n",
    "hover2.tooltips = [(\"Value\", \"@value{0.00}\")]\n",
    "hover2.mode = 'vline'\n",
    "p2.add_tools(hover2)\n",
    "\n",
    "#show(p)"
   ]
  },
  {
   "cell_type": "code",
   "execution_count": 14,
   "metadata": {},
   "outputs": [
    {
     "name": "stderr",
     "output_type": "stream",
     "text": [
      "<ipython-input-14-12599efcc21d>:2: SettingWithCopyWarning: \n",
      "A value is trying to be set on a copy of a slice from a DataFrame.\n",
      "Try using .loc[row_indexer,col_indexer] = value instead\n",
      "\n",
      "See the caveats in the documentation: https://pandas.pydata.org/pandas-docs/stable/user_guide/indexing.html#returning-a-view-versus-a-copy\n",
      "  fdi['value'] = fdi['value']/1000000\n"
     ]
    }
   ],
   "source": [
    "fdi = df5.loc[(df5[\"variable\"] == \"for_dir_inv\")]\n",
    "fdi['value'] = fdi['value']/1000000\n",
    "source2 = ColumnDataSource(fdi)\n",
    "countries = source.data['country'].tolist()\n",
    "\n",
    "p3 = figure(x_range=countries)\n",
    "p3.vbar(x = 'country', top='value', source = source2, width=0.5, color=\"green\")\n",
    "p3.add_layout(Title(text=\"in mln$\", text_font_style=\"italic\", text_font_size = \"7pt\"), 'above')\n",
    "p3.add_layout(Title(text=\"Foreign Direct Investement\", text_font_size=\"9pt\"), 'above')\n",
    "p3.xaxis.major_label_orientation = \"vertical\"\n",
    "\n",
    "p3.plot_height = 400\n",
    "p3.plot_width = 400\n",
    "\n",
    "hover3 = HoverTool()\n",
    "hover3.tooltips = [(\"Value\", \"@value{0.00 a}\")]\n",
    "hover3.mode = 'vline'\n",
    "p3.add_tools(hover3)\n",
    "\n",
    "#show(p3)"
   ]
  },
  {
   "cell_type": "code",
   "execution_count": 15,
   "metadata": {},
   "outputs": [],
   "source": [
    "gov = df5.loc[(df5[\"variable\"] == \"gov_exp\")]\n",
    "#gov['value'] = gov['value']/1000000\n",
    "source3 = ColumnDataSource(gov)\n",
    "countries = source.data['country'].tolist()\n",
    "\n",
    "p4 = figure(x_range=countries)\n",
    "p4.vbar(x = 'country', top='value', source = source3, width=0.5, color=\"orange\")\n",
    "p4.add_layout(Title(text=\"PPP (current international $)\", text_font_style=\"italic\", text_font_size = \"7pt\"), 'above')\n",
    "p4.add_layout(Title(text=\"Domestic general government health expenditure per capita\", text_font_size=\"9pt\"), 'above')\n",
    "p4.xaxis.major_label_orientation = \"vertical\"\n",
    "\n",
    "p4.plot_height = 400\n",
    "p4.plot_width = 400\n",
    "\n",
    "hover4 = HoverTool()\n",
    "hover4.tooltips = [(\"Value\",\"@value{0.00}\")]\n",
    "hover4.mode = 'vline'\n",
    "p4.add_tools(hover4)"
   ]
  },
  {
   "cell_type": "code",
   "execution_count": 16,
   "metadata": {},
   "outputs": [],
   "source": [
    "pri = df5.loc[(df5[\"variable\"] == \"private_exp\")]\n",
    "#pri['value'] = pri['value']/1000000\n",
    "source4 = ColumnDataSource(pri)\n",
    "countries = source.data['country'].tolist()\n",
    "\n",
    "p5 = figure(x_range=countries)\n",
    "p5.vbar(x = 'country', top='value', source = source4, width=0.5, color=\"pink\")\n",
    "p5.add_layout(Title(text=\"(% of current health expenditure)\", text_font_style=\"italic\", text_font_size = \"7pt\"), 'above')\n",
    "p5.add_layout(Title(text=\"Domestic private health expenditure\", text_font_size=\"9pt\"), 'above')\n",
    "p5.xaxis.major_label_orientation = \"vertical\"\n",
    "\n",
    "p5.plot_height = 400\n",
    "p5.plot_width = 400\n",
    "\n",
    "hover5 = HoverTool()\n",
    "hover5.tooltips = [(\"Value\",\"@value{0.00}\")]\n",
    "hover5.mode = 'vline'\n",
    "p5.add_tools(hover5)\n",
    "#show(p)"
   ]
  },
  {
   "cell_type": "code",
   "execution_count": 17,
   "metadata": {
    "scrolled": true
   },
   "outputs": [
    {
     "name": "stderr",
     "output_type": "stream",
     "text": [
      "BokehUserWarning: ColumnDataSource's columns must be of the same length. Current lengths: ('counts', 20), ('x', 18)\n"
     ]
    }
   ],
   "source": [
    "#List of used statistics\n",
    "\n",
    "stats = ['Men','Women']\n",
    "\n",
    "#Creating a dictionary of our data\n",
    "\n",
    "mdata = {'countries' : selection,\n",
    "        'M'   : df.loc[(df[\"sex\"] == \"Men\") & (df[\"variable\"] == \"hypertension_prevalence\")]['value'],\n",
    "        'W'   : df.loc[(df[\"sex\"] == \"Women\") & (df[\"variable\"] == \"hypertension_prevalence\")]['value']}\n",
    "\n",
    "# Creating tuples for individual bars [ (\"Nigeria\", \"Women\"), (\"Nigeria\", \"Men\"),  ... ]\n",
    "\n",
    "x = [ (country, stat) for country in countries for stat in stats ]\n",
    "counts = sum(zip(mdata['M'], mdata['W']), ())\n",
    "             \n",
    "#Creating a column data source - Bokeh's own data type with the fields (Country,[stats],[values],[colors]) \n",
    "             \n",
    "source = ColumnDataSource(data=dict(x=x, counts=counts))\n",
    "\n",
    "\n",
    "\n",
    "             \n",
    "#Initializing our plot\n",
    "             \n",
    "p6 = figure(x_range=FactorRange(*x), plot_height=350)\n",
    "             \n",
    "#Plotting our vertical bar chart\n",
    "             \n",
    "p6.vbar(x='x', top='counts', width=0.9  ,  source=source, \n",
    "        fill_color=factor_cmap('x', palette=Spectral6, factors=stats, start=1, end=2))\n",
    "\n",
    "\n",
    "             \n",
    "#Enhancing our graph\n",
    "p6.y_range.start = 0\n",
    "p6.x_range.range_padding = 0.1\n",
    "p6.xaxis.major_label_orientation = \"vertical\"\n",
    "p6.xaxis.subgroup_label_orientation = \"normal\"\n",
    "p6.xaxis.group_label_orientation = \"vertical\"\n",
    "\n",
    "p6.xgrid.grid_line_color = None\n",
    "p6.add_layout(Title(text=\" \", text_font_style=\"italic\", text_font_size = \"7pt\"), 'above')\n",
    "p6.add_layout(Title(text=\"Hypertension Prevalence\", text_font_size=\"9pt\"), 'above')         \n",
    "\n",
    "p6.plot_height = 400\n",
    "p6.plot_width = 400\n",
    "\n",
    "hover6 = HoverTool()\n",
    "hover6.tooltips = [(\"Hypertension Prevalence\", \"@x\"),(\"Ratio\", \"@counts\")]\n",
    "hover6.mode = 'vline'\n",
    "p6.add_tools(hover6)\n",
    "#show(p6)"
   ]
  },
  {
   "cell_type": "code",
   "execution_count": 18,
   "metadata": {},
   "outputs": [
    {
     "name": "stderr",
     "output_type": "stream",
     "text": [
      "BokehUserWarning: ColumnDataSource's columns must be of the same length. Current lengths: ('counts', 20), ('x', 18)\n"
     ]
    }
   ],
   "source": [
    "\n",
    "#List of used statistics\n",
    "\n",
    "stats = ['Men','Women']\n",
    "\n",
    "#Creating a dictionary of our data\n",
    "\n",
    "ddata = {'countries' : selection,\n",
    "        'M'   : df.loc[(df[\"sex\"] == \"Men\") & (df[\"variable\"] == \"diabletes_prevalence\")]['value'],\n",
    "        'W'   : df.loc[(df[\"sex\"] == \"Women\") & (df[\"variable\"] == \"diabletes_prevalence\")]['value']}\n",
    "\n",
    "# Creating tuples for individual bars [ (\"Nigeria\", \"Women\"), (\"Nigeria\", \"Men\"),  ... ]\n",
    "\n",
    "x = [ (country, stat) for country in countries for stat in stats ]\n",
    "counts = sum(zip(ddata['M'], ddata['W']), ())\n",
    "             \n",
    "#Creating a column data source - Bokeh's own data type with the fields (Country,[stats],[values],[colors]) \n",
    "             \n",
    "source1 = ColumnDataSource(data=dict(x=x, counts=counts))\n",
    "\n",
    "\n",
    "\n",
    "             \n",
    "#Initializing our plot\n",
    "             \n",
    "p7 = figure(x_range=FactorRange(*x), plot_height=350)\n",
    "             \n",
    "#Plotting our vertical bar chart\n",
    "             \n",
    "p7.vbar(x='x', top='counts', width=0.9  ,  source=source1, \n",
    "        fill_color=factor_cmap('x', palette=Plasma256, factors=stats, start=1, end=2))\n",
    "\n",
    "\n",
    "             \n",
    "#Enhancing our graph\n",
    "p7.y_range.start = 0\n",
    "p7.x_range.range_padding = 0.1\n",
    "p7.xaxis.major_label_orientation = \"vertical\"\n",
    "p7.xaxis.subgroup_label_orientation = \"normal\"\n",
    "p7.xaxis.group_label_orientation = \"vertical\"\n",
    "\n",
    "p7.xgrid.grid_line_color = None\n",
    "p7.add_layout(Title(text=\" \", text_font_style=\"italic\", text_font_size = \"7pt\"), 'above')\n",
    "p7.add_layout(Title(text=\"Diabetes Prevalence\", text_font_size=\"9pt\"), 'above') \n",
    "\n",
    "p7.plot_height = 400\n",
    "p7.plot_width = 400\n",
    "\n",
    "hover7 = HoverTool()\n",
    "hover7.tooltips = [(\"Diabetes Prevalence\", \"@x\"),(\"Ratio\", \"@counts{0.00}\")]\n",
    "hover7.mode = 'vline'\n",
    "p7.add_tools(hover7)\n",
    "#show(p7)"
   ]
  },
  {
   "cell_type": "code",
   "execution_count": 19,
   "metadata": {},
   "outputs": [
    {
     "name": "stderr",
     "output_type": "stream",
     "text": [
      "BokehUserWarning: ColumnDataSource's columns must be of the same length. Current lengths: ('counts', 20), ('x', 18)\n"
     ]
    }
   ],
   "source": [
    "#List of used statistics\n",
    "\n",
    "stats = ['Men','Women']\n",
    "\n",
    "#Creating a dictionary of our data\n",
    "\n",
    "bdata = {'countries' : selection,\n",
    "        'M'   : df.loc[(df[\"sex\"] == \"Men\") & (df[\"variable\"] == \"bmi_mean\")]['value'],\n",
    "        'W'   : df.loc[(df[\"sex\"] == \"Women\") & (df[\"variable\"] == \"bmi_mean\")]['value']}\n",
    "\n",
    "# Creating tuples for individual bars [ (\"Nigeria\", \"Women\"), (\"Nigeria\", \"Men\"),  ... ]\n",
    "\n",
    "x = [ (country, stat) for country in countries for stat in stats ]\n",
    "counts = sum(zip(bdata['M'], bdata['W']), ())\n",
    "             \n",
    "#Creating a column data source - Bokeh's own data type with the fields (Country,[stats],[values],[colors]) \n",
    "             \n",
    "source2 = ColumnDataSource(data=dict(x=x, counts=counts))\n",
    "\n",
    "\n",
    "\n",
    "             \n",
    "#Initializing our plot\n",
    "             \n",
    "p8 = figure(x_range=FactorRange(*x), plot_height=350)\n",
    "             \n",
    "#Plotting our vertical bar chart\n",
    "             \n",
    "p8.vbar(x='x', top='counts', width=0.9  ,  source=source2, \n",
    "        fill_color=factor_cmap('x', palette=Viridis256, factors=stats, start=1, end=2))\n",
    "\n",
    "\n",
    "             \n",
    "#Enhancing our graph\n",
    "p8.y_range.start = 0\n",
    "p8.x_range.range_padding = 0.1\n",
    "p8.xaxis.major_label_orientation = \"vertical\"\n",
    "p8.xaxis.subgroup_label_orientation = \"normal\"\n",
    "p8.xaxis.group_label_orientation = \"vertical\"\n",
    "p8.xgrid.grid_line_color = None\n",
    "p8.add_layout(Title(text=\" \", text_font_style=\"italic\", text_font_size = \"7pt\"), 'above')\n",
    "p8.add_layout(Title(text=\"BMI\", text_font_size=\"9pt\"), 'above')   \n",
    "\n",
    "p8.plot_height = 400\n",
    "p8.plot_width = 400\n",
    "\n",
    "hover8 = HoverTool()\n",
    "hover8.tooltips = [(\"BMI \", \"@x\"),(\"Value\", \"@counts{0.00}\")]\n",
    "hover8.mode = 'vline'\n",
    "p8.add_tools(hover8)\n",
    "#show(p8)"
   ]
  },
  {
   "cell_type": "code",
   "execution_count": 20,
   "metadata": {},
   "outputs": [],
   "source": [
    "grid = gridplot([p1, p2, p3, p4, p5, p6, p7, p8], ncols = 4, sizing_mode = \"scale_width\")\n",
    "show(grid)"
   ]
  },
  {
   "cell_type": "code",
   "execution_count": 66,
   "metadata": {},
   "outputs": [
    {
     "data": {
      "text/html": [
       "<div>\n",
       "<style scoped>\n",
       "    .dataframe tbody tr th:only-of-type {\n",
       "        vertical-align: middle;\n",
       "    }\n",
       "\n",
       "    .dataframe tbody tr th {\n",
       "        vertical-align: top;\n",
       "    }\n",
       "\n",
       "    .dataframe thead th {\n",
       "        text-align: right;\n",
       "    }\n",
       "</style>\n",
       "<table border=\"1\" class=\"dataframe\">\n",
       "  <thead>\n",
       "    <tr style=\"text-align: right;\">\n",
       "      <th></th>\n",
       "      <th>country</th>\n",
       "      <th>sex</th>\n",
       "      <th>year</th>\n",
       "      <th>variable</th>\n",
       "      <th>value</th>\n",
       "    </tr>\n",
       "  </thead>\n",
       "  <tbody>\n",
       "    <tr>\n",
       "      <th>0</th>\n",
       "      <td>Algeria</td>\n",
       "      <td>Men</td>\n",
       "      <td>2014</td>\n",
       "      <td>hypertension_prevalence</td>\n",
       "      <td>0.224311</td>\n",
       "    </tr>\n",
       "    <tr>\n",
       "      <th>1</th>\n",
       "      <td>Angola</td>\n",
       "      <td>Men</td>\n",
       "      <td>2014</td>\n",
       "      <td>hypertension_prevalence</td>\n",
       "      <td>0.231180</td>\n",
       "    </tr>\n",
       "    <tr>\n",
       "      <th>2</th>\n",
       "      <td>Cameroon</td>\n",
       "      <td>Men</td>\n",
       "      <td>2014</td>\n",
       "      <td>hypertension_prevalence</td>\n",
       "      <td>0.195653</td>\n",
       "    </tr>\n",
       "    <tr>\n",
       "      <th>3</th>\n",
       "      <td>Cote d'Ivoire</td>\n",
       "      <td>Men</td>\n",
       "      <td>2014</td>\n",
       "      <td>hypertension_prevalence</td>\n",
       "      <td>0.235134</td>\n",
       "    </tr>\n",
       "    <tr>\n",
       "      <th>4</th>\n",
       "      <td>Egypt</td>\n",
       "      <td>Men</td>\n",
       "      <td>2014</td>\n",
       "      <td>hypertension_prevalence</td>\n",
       "      <td>0.223333</td>\n",
       "    </tr>\n",
       "    <tr>\n",
       "      <th>5</th>\n",
       "      <td>Ghana</td>\n",
       "      <td>Men</td>\n",
       "      <td>2014</td>\n",
       "      <td>hypertension_prevalence</td>\n",
       "      <td>0.200084</td>\n",
       "    </tr>\n",
       "    <tr>\n",
       "      <th>6</th>\n",
       "      <td>Kenya</td>\n",
       "      <td>Men</td>\n",
       "      <td>2014</td>\n",
       "      <td>hypertension_prevalence</td>\n",
       "      <td>0.203547</td>\n",
       "    </tr>\n",
       "    <tr>\n",
       "      <th>7</th>\n",
       "      <td>Morocco</td>\n",
       "      <td>Men</td>\n",
       "      <td>2014</td>\n",
       "      <td>hypertension_prevalence</td>\n",
       "      <td>0.238361</td>\n",
       "    </tr>\n",
       "    <tr>\n",
       "      <th>8</th>\n",
       "      <td>Nigeria</td>\n",
       "      <td>Men</td>\n",
       "      <td>2014</td>\n",
       "      <td>hypertension_prevalence</td>\n",
       "      <td>0.181270</td>\n",
       "    </tr>\n",
       "    <tr>\n",
       "      <th>9</th>\n",
       "      <td>South Africa</td>\n",
       "      <td>Men</td>\n",
       "      <td>2014</td>\n",
       "      <td>hypertension_prevalence</td>\n",
       "      <td>0.236704</td>\n",
       "    </tr>\n",
       "  </tbody>\n",
       "</table>\n",
       "</div>"
      ],
      "text/plain": [
       "         country  sex  year                 variable     value\n",
       "0        Algeria  Men  2014  hypertension_prevalence  0.224311\n",
       "1         Angola  Men  2014  hypertension_prevalence  0.231180\n",
       "2       Cameroon  Men  2014  hypertension_prevalence  0.195653\n",
       "3  Cote d'Ivoire  Men  2014  hypertension_prevalence  0.235134\n",
       "4          Egypt  Men  2014  hypertension_prevalence  0.223333\n",
       "5          Ghana  Men  2014  hypertension_prevalence  0.200084\n",
       "6          Kenya  Men  2014  hypertension_prevalence  0.203547\n",
       "7        Morocco  Men  2014  hypertension_prevalence  0.238361\n",
       "8        Nigeria  Men  2014  hypertension_prevalence  0.181270\n",
       "9   South Africa  Men  2014  hypertension_prevalence  0.236704"
      ]
     },
     "execution_count": 66,
     "metadata": {},
     "output_type": "execute_result"
    }
   ],
   "source": [
    "#df.loc[(df[\"sex\"] == \"Men\") & (df[\"variable\"] == \"hypertension_prevalence\")]"
   ]
  },
  {
   "cell_type": "code",
   "execution_count": 21,
   "metadata": {},
   "outputs": [
    {
     "data": {
      "text/plain": [
       "<bound method NDFrame.head of           country    sex  year                 variable      value\n",
       "0         Algeria    Men  2014  hypertension_prevalence   0.224311\n",
       "1          Angola    Men  2014  hypertension_prevalence   0.231180\n",
       "2        Cameroon    Men  2014  hypertension_prevalence   0.195653\n",
       "3   Cote d'Ivoire    Men  2014  hypertension_prevalence   0.235134\n",
       "4           Egypt    Men  2014  hypertension_prevalence   0.223333\n",
       "5           Ghana    Men  2014  hypertension_prevalence   0.200084\n",
       "6           Kenya    Men  2014  hypertension_prevalence   0.203547\n",
       "7         Morocco    Men  2014  hypertension_prevalence   0.238361\n",
       "8         Nigeria    Men  2014  hypertension_prevalence   0.181270\n",
       "9    South Africa    Men  2014  hypertension_prevalence   0.236704\n",
       "10        Algeria  Women  2014  hypertension_prevalence   0.210127\n",
       "11         Angola  Women  2014  hypertension_prevalence   0.217677\n",
       "12       Cameroon  Women  2014  hypertension_prevalence   0.181211\n",
       "13  Cote d'Ivoire  Women  2014  hypertension_prevalence   0.198163\n",
       "14          Egypt  Women  2014  hypertension_prevalence   0.229325\n",
       "15          Ghana  Women  2014  hypertension_prevalence   0.176249\n",
       "16          Kenya  Women  2014  hypertension_prevalence   0.191172\n",
       "17        Morocco  Women  2014  hypertension_prevalence   0.237572\n",
       "18        Nigeria  Women  2014  hypertension_prevalence   0.188728\n",
       "19   South Africa  Women  2014  hypertension_prevalence   0.245202\n",
       "20        Algeria    Men  2014                 bmi_mean  24.687904\n",
       "21         Angola    Men  2014                 bmi_mean  22.292131\n",
       "22       Cameroon    Men  2014                 bmi_mean  23.579784\n",
       "23  Cote d'Ivoire    Men  2014                 bmi_mean  23.396803\n",
       "24          Egypt    Men  2014                 bmi_mean  27.734715\n",
       "25          Ghana    Men  2014                 bmi_mean  22.590067\n",
       "26          Kenya    Men  2014                 bmi_mean  22.131151\n",
       "27        Morocco    Men  2014                 bmi_mean  25.355692\n",
       "28        Nigeria    Men  2014                 bmi_mean  22.591637\n",
       "29   South Africa    Men  2014                 bmi_mean  25.032780\n",
       "30        Algeria  Women  2014                 bmi_mean  26.415817\n",
       "31         Angola  Women  2014                 bmi_mean  24.146833\n",
       "32       Cameroon  Women  2014                 bmi_mean  25.068460\n",
       "33  Cote d'Ivoire  Women  2014                 bmi_mean  24.146818\n",
       "34          Egypt  Women  2014                 bmi_mean  31.351410\n",
       "35          Ghana  Women  2014                 bmi_mean  25.172863\n",
       "36          Kenya  Women  2014                 bmi_mean  24.347498\n",
       "37        Morocco  Women  2014                 bmi_mean  26.527878\n",
       "38        Nigeria  Women  2014                 bmi_mean  23.937172\n",
       "39   South Africa  Women  2014                 bmi_mean  29.432089\n",
       "40        Algeria    Men  2014     diabletes_prevalence   0.102430\n",
       "41         Angola    Men  2014     diabletes_prevalence   0.057557\n",
       "42       Cameroon    Men  2014     diabletes_prevalence   0.044571\n",
       "43  Cote d'Ivoire    Men  2014     diabletes_prevalence   0.056148\n",
       "44          Egypt    Men  2014     diabletes_prevalence   0.141736\n",
       "45          Ghana    Men  2014     diabletes_prevalence   0.045948\n",
       "46          Kenya    Men  2014     diabletes_prevalence   0.037918\n",
       "47        Morocco    Men  2014     diabletes_prevalence   0.125559\n",
       "48        Nigeria    Men  2014     diabletes_prevalence   0.043777\n",
       "49   South Africa    Men  2014     diabletes_prevalence   0.077324\n",
       "50        Algeria  Women  2014     diabletes_prevalence   0.107245\n",
       "51         Angola  Women  2014     diabletes_prevalence   0.054879\n",
       "52       Cameroon  Women  2014     diabletes_prevalence   0.048774\n",
       "53  Cote d'Ivoire  Women  2014     diabletes_prevalence   0.044237\n",
       "54          Egypt  Women  2014     diabletes_prevalence   0.182179\n",
       "55          Ghana  Women  2014     diabletes_prevalence   0.049699\n",
       "56          Kenya  Women  2014     diabletes_prevalence   0.042424\n",
       "57        Morocco  Women  2014     diabletes_prevalence   0.123407\n",
       "58        Nigeria  Women  2014     diabletes_prevalence   0.042889\n",
       "59   South Africa  Women  2014     diabletes_prevalence   0.117506>"
      ]
     },
     "execution_count": 21,
     "metadata": {},
     "output_type": "execute_result"
    }
   ],
   "source": [
    "#df.head"
   ]
  },
  {
   "cell_type": "code",
   "execution_count": null,
   "metadata": {},
   "outputs": [],
   "source": []
  }
 ],
 "metadata": {
  "kernelspec": {
   "display_name": "Python 3",
   "language": "python",
   "name": "python3"
  },
  "language_info": {
   "codemirror_mode": {
    "name": "ipython",
    "version": 3
   },
   "file_extension": ".py",
   "mimetype": "text/x-python",
   "name": "python",
   "nbconvert_exporter": "python",
   "pygments_lexer": "ipython3",
   "version": "3.8.5"
  }
 },
 "nbformat": 4,
 "nbformat_minor": 4
}
